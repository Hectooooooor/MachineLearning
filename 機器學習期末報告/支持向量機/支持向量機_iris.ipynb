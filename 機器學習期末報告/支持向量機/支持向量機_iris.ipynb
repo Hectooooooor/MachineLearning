{
  "nbformat": 4,
  "nbformat_minor": 0,
  "metadata": {
    "colab": {
      "provenance": []
    },
    "kernelspec": {
      "name": "python3",
      "display_name": "Python 3"
    },
    "language_info": {
      "name": "python"
    }
  },
  "cells": [
    {
      "cell_type": "code",
      "execution_count": null,
      "metadata": {
        "id": "KZ637p6hvMmu"
      },
      "outputs": [],
      "source": [
        "# 匯入套件\n",
        "from sklearn.datasets import load_iris\n",
        "from sklearn.model_selection import train_test_split\n",
        "from sklearn.svm import SVC\n",
        "from sklearn.metrics import classification_report, confusion_matrix\n",
        "import pandas as pd\n",
        "\n",
        "# 載入 iris 資料集\n",
        "iris = load_iris()\n",
        "X = iris.data\n",
        "y = iris.target\n",
        "\n",
        "# 分割資料集（80%訓練，20%測試）\n",
        "X_train, X_test, y_train, y_test = train_test_split(X, y, test_size=0.2, random_state=42)\n",
        "\n",
        "# 建立支援向量機模型（SVC = Support Vector Classifier）\n",
        "model = SVC(kernel='linear')  # 使用 linear kernel\n",
        "model.fit(X_train, y_train)\n",
        "\n",
        "# 預測測試資料\n",
        "y_pred = model.predict(X_test)\n",
        "\n",
        "# 顯示混淆矩陣與分類報告\n",
        "print(\"混淆矩陣：\")\n",
        "print(confusion_matrix(y_test, y_pred))\n",
        "\n",
        "print(\"\\n分類報告：\")\n",
        "print(classification_report(y_test, y_pred, target_names=iris.target_names))\n",
        "\n",
        "# 額外：顯示預測結果\n",
        "df = pd.DataFrame({\n",
        "    \"實際類別\": [iris.target_names[i] for i in y_test],\n",
        "    \"預測類別\": [iris.target_names[i] for i in y_pred]\n",
        "})\n",
        "print(\"\\n預測結果：\")\n",
        "print(df)\n"
      ]
    }
  ]
}