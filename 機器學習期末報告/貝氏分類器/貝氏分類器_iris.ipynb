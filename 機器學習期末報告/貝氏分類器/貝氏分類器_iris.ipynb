{
  "nbformat": 4,
  "nbformat_minor": 0,
  "metadata": {
    "colab": {
      "provenance": []
    },
    "kernelspec": {
      "name": "python3",
      "display_name": "Python 3"
    },
    "language_info": {
      "name": "python"
    }
  },
  "cells": [
    {
      "cell_type": "code",
      "execution_count": null,
      "metadata": {
        "id": "y40kDjY8qq6E"
      },
      "outputs": [],
      "source": [
        "### 模型簡介：\n",
        "本範例使用 sklearn 的 GaussianNB 進行 iris 資料集的分類任務。\n",
        "透過訓練模型與預測結果，我們觀察 Naive Bayes 分類的準確性與混淆矩陣表現。\n",
        "\n",
        "# 匯入需要的套件\n",
        "from sklearn.datasets import load_iris\n",
        "from sklearn.model_selection import train_test_split\n",
        "from sklearn.naive_bayes import GaussianNB\n",
        "from sklearn.metrics import classification_report, confusion_matrix\n",
        "import pandas as pd\n",
        "\n",
        "# 載入 iris 資料集\n",
        "iris = load_iris()\n",
        "X = iris.data  # 特徵值（花萼長寬、花瓣長寬）\n",
        "y = iris.target  # 目標分類（0, 1, 2）\n",
        "\n",
        "# 分割訓練與測試資料（80%訓練, 20%測試）\n",
        "X_train, X_test, y_train, y_test = train_test_split(X, y, test_size=0.2, random_state=42)\n",
        "\n",
        "# 建立高斯貝氏分類器模型\n",
        "model = GaussianNB()\n",
        "model.fit(X_train, y_train)\n",
        "\n",
        "# 使用模型進行預測\n",
        "y_pred = model.predict(X_test)\n",
        "\n",
        "# 顯示混淆矩陣與分類報告\n",
        "print(\"混淆矩陣：\")\n",
        "print(confusion_matrix(y_test, y_pred))\n",
        "\n",
        "print(\"\\n分類報告：\")\n",
        "print(classification_report(y_test, y_pred, target_names=iris.target_names))\n",
        "\n",
        "# 額外：顯示預測結果 DataFrame\n",
        "df = pd.DataFrame({\n",
        "    \"實際類別\": [iris.target_names[i] for i in y_test],\n",
        "    \"預測類別\": [iris.target_names[i] for i in y_pred]\n",
        "})\n",
        "print(\"\\n預測結果：\")\n",
        "print(df)\n"
      ]
    }
  ]
}