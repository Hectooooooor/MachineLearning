{
  "nbformat": 4,
  "nbformat_minor": 0,
  "metadata": {
    "colab": {
      "provenance": []
    },
    "kernelspec": {
      "name": "python3",
      "display_name": "Python 3"
    },
    "language_info": {
      "name": "python"
    }
  },
  "cells": [
    {
      "cell_type": "code",
      "execution_count": null,
      "metadata": {
        "id": "MVoC6nYb6xDS"
      },
      "outputs": [],
      "source": [
        "## KMeans 分群（iris 資料集）\n",
        "\n",
        "本範例使用 sklearn 的 KMeans 對 iris 資料集進行非監督式分群。\n",
        "由於資料集中原本就有三種花類，我們設定 KMeans 分為 3 群。\n",
        "並用 PCA 對結果做降維視覺化，觀察分群與原始標籤的接近程度。\n",
        "\n",
        "# 匯入需要的套件\n",
        "from sklearn.datasets import load_iris\n",
        "from sklearn.cluster import KMeans\n",
        "import pandas as pd\n",
        "import matplotlib.pyplot as plt\n",
        "from sklearn.decomposition import PCA\n",
        "\n",
        "# 載入 iris 資料集\n",
        "iris = load_iris()\n",
        "X = iris.data\n",
        "y = iris.target  # 雖然 KMeans 不用 y，但我們可以後面比較用\n",
        "\n",
        "# 建立 KMeans 模型，設定分 3 群（對應 3 類 iris）\n",
        "kmeans = KMeans(n_clusters=3, random_state=42)\n",
        "kmeans.fit(X)\n",
        "\n",
        "# 顯示分群結果\n",
        "print(\"KMeans 預測的分群標籤：\")\n",
        "print(kmeans.labels_)\n",
        "\n",
        "# 顯示每個群的中心點\n",
        "print(\"\\n群集中心（Centroids）：\")\n",
        "print(kmeans.cluster_centers_)\n",
        "\n",
        "# 可視化：使用 PCA 降維讓資料可以畫出來\n",
        "pca = PCA(n_components=2)\n",
        "X_pca = pca.fit_transform(X)\n",
        "\n",
        "df = pd.DataFrame({\n",
        "    'PCA1': X_pca[:, 0],\n",
        "    'PCA2': X_pca[:, 1],\n",
        "    '實際類別': y,\n",
        "    '分群結果': kmeans.labels_\n",
        "})\n",
        "\n",
        "# 畫出分群圖\n",
        "plt.figure(figsize=(8, 6))\n",
        "plt.scatter(df['PCA1'], df['PCA2'], c=df['分群結果'], cmap='viridis')\n",
        "plt.title('KMeans 分群結果（PCA降維後）')\n",
        "plt.xlabel('PCA1')\n",
        "plt.ylabel('PCA2')\n",
        "plt.colorbar(label='Cluster')\n",
        "plt.grid(True)\n",
        "plt.show()\n"
      ]
    }
  ]
}