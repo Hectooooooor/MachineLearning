{
 "cells": [
  {
   "cell_type": "markdown",
   "id": "973dba58",
   "metadata": {},
   "source": [
    "\n",
    "# 隨機森林 - Iris 範例\n",
    "\n",
    "本範例使用 sklearn 套件中的 `RandomForestClassifier` 對 iris 資料集進行分類。主要步驟包括：\n",
    "\n",
    "1. 載入資料集\n",
    "2. 分割訓練與測試資料\n",
    "3. 建立與訓練隨機森林模型\n",
    "4. 預測與評估模型效能\n",
    "5. 分析各特徵的重要性\n"
   ]
  },
  {
   "cell_type": "code",
   "execution_count": 38,
   "metadata": {
    "colab": {
     "base_uri": "https://localhost:8080/"
    },
    "executionInfo": {
     "elapsed": 278,
     "status": "ok",
     "timestamp": 1671847200879,
     "user": {
      "displayName": "SuHsien Huang",
      "userId": "11014804796992120381"
     },
     "user_tz": -480
    },
    "id": "t6vdRVArFVOB",
    "outputId": "30b53126-8a5a-42d3-896b-a902108057ea"
   },
   "outputs": [
    {
     "name": "stdout",
     "output_type": "stream",
     "text": [
      "訓練資料正確率: 0.9904761904761905\n",
      "測試資料正確率: 1.0\n",
      "標準答案: [1 0 0 1 1 1 2 2 2 2 0 0 2 2 1 1 0 0 1 1 1 1 0 2 0 0 0 2 1 1 0 1 0 2 0 2 1\n",
      " 2 2 0 1 1 2 0 2]\n",
      "預測答案: [1 0 0 1 1 1 2 2 2 2 0 0 2 2 1 1 0 0 1 1 1 1 0 2 0 0 0 2 1 1 0 1 0 2 0 2 1\n",
      " 2 2 0 1 1 2 0 2]\n"
     ]
    }
   ],
   "source": [
    "from sklearn.ensemble import RandomForestClassifier  # 匯入所需的函式庫\n",
    "from sklearn.datasets import load_iris  # 匯入所需的函式庫\n",
    "from sklearn.model_selection import train_test_split  # 匯入所需的函式庫\n",
    "\n",
    "# 讀入鳶尾花資料\n",
    "iris = load_iris()  # 載入 iris 資料集\n",
    "iris_data = iris.data\n",
    "iris_label = iris.target\n",
    "\n",
    "# 切分訓練與測試資料\n",
    "train_data, test_data, train_label, test_label = train_test_split(iris_data, iris_label, test_size = 0.3)  # 將資料分為訓練集與測試集\n",
    "\n",
    "# 建立分類器\n",
    "clf = RandomForestClassifier(n_estimators=30, max_depth=4)  # 建立隨機森林分類器\n",
    "iris_clf = clf.fit(train_data, train_label)  # 使用訓練資料進行模型訓練\n",
    "print(\"訓練資料正確率:\",clf.score(train_data,train_label)) # 訓練資料正確率\n",
    "print(\"測試資料正確率:\",clf.score(test_data, test_label)) # 測試資料正確率\n",
    "\n",
    "predict=clf.predict(test_data) # 預測  # 使用模型進行預測\n",
    "print(\"標準答案:\",test_label) # 標準答案\n",
    "print(\"預測答案:\",predict) # 預測答案"
   ]
  },
  {
   "cell_type": "code",
   "execution_count": 8,
   "metadata": {
    "executionInfo": {
     "elapsed": 259,
     "status": "ok",
     "timestamp": 1671847141212,
     "user": {
      "displayName": "SuHsien Huang",
      "userId": "11014804796992120381"
     },
     "user_tz": -480
    },
    "id": "rBaEEbxtGzLo"
   },
   "outputs": [],
   "source": []
  }
 ],
 "metadata": {
  "colab": {
   "authorship_tag": "ABX9TyNPa20/qolXbPAOJH2sAFuy",
   "provenance": []
  },
  "kernelspec": {
   "display_name": "Python 3",
   "name": "python3"
  },
  "language_info": {
   "name": "python"
  }
 },
 "nbformat": 4,
 "nbformat_minor": 0
}
